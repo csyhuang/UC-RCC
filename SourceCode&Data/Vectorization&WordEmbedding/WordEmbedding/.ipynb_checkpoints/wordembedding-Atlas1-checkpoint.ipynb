{
 "cells": [
  {
   "cell_type": "markdown",
   "metadata": {},
   "source": [
    "Adapted by: Frank Greco\n",
    "<br>\n",
    "From here: https://towardsdatascience.com/learn-word2vec-by-implementing-it-in-tensorflow-45641adaf2ac\n",
    "<br>\n",
    "Posted by: aneesh joshi"
   ]
  },
  {
   "cell_type": "code",
   "execution_count": 1,
   "metadata": {
    "collapsed": true
   },
   "outputs": [],
   "source": [
    "import numpy as np\n",
    "import tensorflow as tf"
   ]
  },
  {
   "cell_type": "code",
   "execution_count": 2,
   "metadata": {},
   "outputs": [
    {
     "name": "stdout",
     "output_type": "stream",
     "text": [
      "./Copy of 001 ENLEAYA001.srt.txt\n",
      "('len transcript_raw', 142)\n"
     ]
    }
   ],
   "source": [
    "def read_file(indir, testfile):\n",
    "\n",
    "    fullpath=indir+'/'+testfile\n",
    "    \n",
    "    print fullpath\n",
    "    \n",
    "    slist = [line.rstrip('\\n').lower() for line in open(fullpath)]\n",
    "\n",
    "    return slist\n",
    "    \n",
    "indir = '.'\n",
    "\n",
    "testfile = 'Copy of 001 ENLEAYA001.srt.txt'\n",
    "\n",
    "transcript_raw=read_file(indir, testfile)\n",
    "\n",
    "print ('len transcript_raw', len(transcript_raw))\n"
   ]
  },
  {
   "cell_type": "code",
   "execution_count": 3,
   "metadata": {},
   "outputs": [
    {
     "name": "stdout",
     "output_type": "stream",
     "text": [
      "vocab_size 398\n"
     ]
    }
   ],
   "source": [
    "words = []\n",
    "\n",
    "for utterance in transcript_raw:\n",
    "    for word in utterance.split():\n",
    "        if word != '.':        # because we don't want to treat . as a word\n",
    "            word=word.replace(\",\", \"\")\n",
    "            word=word.replace(\".\", \"\")\n",
    "            word=word.replace(\"?\", \"\")\n",
    "            word=word.replace(\"!\", \"\")  \n",
    "            words.append(word)\n",
    "\n",
    "words = set(words) # so that all duplicate words are removed\n",
    "\n",
    "word2int = {}\n",
    "int2word = {}\n",
    "\n",
    "vocab_size = len(words) # gives the total number of unique words\n",
    "\n",
    "print \"vocab_size\", vocab_size\n",
    "\n",
    "for i,word in enumerate(words):\n",
    "    word2int[word] = i\n",
    "    int2word[i] = word"
   ]
  },
  {
   "cell_type": "code",
   "execution_count": 4,
   "metadata": {
    "scrolled": true
   },
   "outputs": [
    {
     "name": "stdout",
     "output_type": "stream",
     "text": [
      "367\n"
     ]
    }
   ],
   "source": [
    "print(word2int['us'])"
   ]
  },
  {
   "cell_type": "code",
   "execution_count": 5,
   "metadata": {},
   "outputs": [
    {
     "name": "stdout",
     "output_type": "stream",
     "text": [
      "hilda\n"
     ]
    }
   ],
   "source": [
    "print(int2word[2])"
   ]
  },
  {
   "cell_type": "code",
   "execution_count": 6,
   "metadata": {
    "collapsed": true
   },
   "outputs": [],
   "source": [
    "import re\n",
    "sentences = []\n",
    "\n",
    "\n",
    "\n",
    "# raw sentences is a list of sentences.\n",
    "for utterance in transcript_raw:\n",
    "    raw_sentences=re.split('[,.!?]', utterance)\n",
    " \n",
    "    for sentence in raw_sentences:\n",
    "        sentences.append(sentence.split())"
   ]
  },
  {
   "cell_type": "code",
   "execution_count": 7,
   "metadata": {},
   "outputs": [
    {
     "name": "stdout",
     "output_type": "stream",
     "text": [
      "443\n",
      "[['okay,', 'i', 'can', 'see', 'two', 'in', 'here'], [], [], [], ['can', 'you', 'read', 'the', 'article', 'first,', 'please'], [], ['yes'], [], ['loudly'], [], ['the', 'president', 'of', 'the', 'republic', 'should', 'be', 'an', 'egyptian', 'born', 'to', 'egyptian', 'parents', 'and', 'enjoy', 'salient', 'political', 'rights'], ['his', 'age', 'must', 'not', 'be', 'less', 'than', '40', 'gregorian', 'years'], [], ['mm-hmm'], [], ['i', 'agree', 'with', 'the', 'president,', 'um'], [], [], [], ['mm-hmm']]\n"
     ]
    }
   ],
   "source": [
    "print (len(sentences))\n",
    "\n",
    "print(sentences[0:20])"
   ]
  },
  {
   "cell_type": "code",
   "execution_count": 8,
   "metadata": {
    "collapsed": true,
    "scrolled": false
   },
   "outputs": [],
   "source": [
    "data = []\n",
    "\n",
    "WINDOW_SIZE = 2\n",
    "\n",
    "for sentence in sentences:\n",
    "    for word_index, word in enumerate(sentence):\n",
    "        for nb_word in sentence[max(word_index - WINDOW_SIZE, 0) : min(word_index + WINDOW_SIZE, len(sentence)) + 1] : \n",
    "            word=word.replace(\",\", \"\")\n",
    "            word=word.replace(\".\", \"\")\n",
    "            word=word.replace(\"?\", \"\")\n",
    "            word=word.replace(\"!\", \"\")\n",
    "            \n",
    "            nb_word=nb_word.replace(\",\", \"\")\n",
    "            nb_word=nb_word.replace(\".\", \"\")\n",
    "            nb_word=nb_word.replace(\"?\", \"\")\n",
    "            nb_word=nb_word.replace(\"!\", \"\")\n",
    "            \n",
    "            if nb_word != word:\n",
    "                data.append([word, nb_word])\n",
    "            #else:\n",
    "                #print word, nb_word"
   ]
  },
  {
   "cell_type": "code",
   "execution_count": 9,
   "metadata": {
    "scrolled": true
   },
   "outputs": [
    {
     "name": "stdout",
     "output_type": "stream",
     "text": [
      "[['okay', 'i'], ['okay', 'can'], ['i', 'okay'], ['i', 'can'], ['i', 'see'], ['can', 'okay'], ['can', 'i'], ['can', 'see'], ['can', 'two'], ['see', 'i'], ['see', 'can'], ['see', 'two'], ['see', 'in'], ['two', 'can'], ['two', 'see'], ['two', 'in'], ['two', 'here'], ['in', 'see'], ['in', 'two'], ['in', 'here']]\n",
      "6802\n"
     ]
    }
   ],
   "source": [
    "print(data[0:20])\n",
    "print len(data)"
   ]
  },
  {
   "cell_type": "code",
   "execution_count": 10,
   "metadata": {
    "collapsed": true
   },
   "outputs": [],
   "source": [
    "# function to convert numbers to one hot vectors\n",
    "def to_one_hot(data_point_index, vocab_size):\n",
    "    temp = np.zeros(vocab_size)\n",
    "    temp[data_point_index] = 1\n",
    "    return temp\n",
    "\n"
   ]
  },
  {
   "cell_type": "code",
   "execution_count": 11,
   "metadata": {
    "collapsed": true
   },
   "outputs": [],
   "source": [
    "x_train = [] # input word\n",
    "y_train = [] # output word\n",
    "\n",
    "for data_word in data:\n",
    "    x_train.append(to_one_hot(word2int[ data_word[0] ], vocab_size))\n",
    "    y_train.append(to_one_hot(word2int[ data_word[1] ], vocab_size))\n",
    "\n",
    "# convert them to numpy arrays\n",
    "x_train = np.asarray(x_train)\n",
    "y_train = np.asarray(y_train)"
   ]
  },
  {
   "cell_type": "code",
   "execution_count": 12,
   "metadata": {},
   "outputs": [
    {
     "name": "stdout",
     "output_type": "stream",
     "text": [
      "((6802, 398), (6802, 398))\n",
      "[[ 0.  0.  0. ...,  0.  0.  0.]\n",
      " [ 0.  0.  0. ...,  0.  0.  0.]\n",
      " [ 0.  0.  0. ...,  0.  0.  0.]\n",
      " ..., \n",
      " [ 0.  0.  0. ...,  0.  0.  0.]\n",
      " [ 0.  0.  0. ...,  0.  0.  0.]\n",
      " [ 0.  0.  0. ...,  0.  0.  0.]]\n"
     ]
    }
   ],
   "source": [
    "print(x_train.shape, y_train.shape)\n",
    "print(x_train)"
   ]
  },
  {
   "cell_type": "code",
   "execution_count": null,
   "metadata": {
    "collapsed": true
   },
   "outputs": [],
   "source": [
    "# making placeholders for x_train and y_train\n",
    "\n",
    "x = tf.placeholder(tf.float32, shape=(None, vocab_size))\n",
    "y_label = tf.placeholder(tf.float32, shape=(None, vocab_size))"
   ]
  },
  {
   "cell_type": "code",
   "execution_count": null,
   "metadata": {
    "collapsed": true
   },
   "outputs": [],
   "source": [
    "EMBEDDING_DIM = 5 # you can choose your own number\n",
    "\n",
    "W1 = tf.Variable(tf.random_normal([vocab_size, EMBEDDING_DIM]))\n",
    "\n",
    "b1 = tf.Variable(tf.random_normal([EMBEDDING_DIM])) #bias\n",
    "\n",
    "hidden_representation = tf.add(tf.matmul(x,W1), b1)"
   ]
  },
  {
   "cell_type": "code",
   "execution_count": null,
   "metadata": {
    "collapsed": true
   },
   "outputs": [],
   "source": [
    "W2 = tf.Variable(tf.random_normal([EMBEDDING_DIM, vocab_size]))\n",
    "\n",
    "b2 = tf.Variable(tf.random_normal([vocab_size]))\n",
    "\n",
    "prediction = tf.nn.softmax(tf.add( tf.matmul(hidden_representation, W2), b2))"
   ]
  },
  {
   "cell_type": "code",
   "execution_count": null,
   "metadata": {
    "collapsed": true
   },
   "outputs": [],
   "source": [
    "print (len(x_train))"
   ]
  },
  {
   "cell_type": "code",
   "execution_count": null,
   "metadata": {
    "collapsed": true
   },
   "outputs": [],
   "source": [
    "sess = tf.Session()\n",
    "\n",
    "init = tf.global_variables_initializer()\n",
    "\n",
    "sess.run(init) #make sure you do this!\n",
    "\n",
    "# define the loss function:\n",
    "cross_entropy_loss = tf.reduce_mean(-tf.reduce_sum(y_label * tf.log(prediction), reduction_indices=[1]))\n",
    "\n",
    "# define the training step:\n",
    "train_step = tf.train.GradientDescentOptimizer(0.1).minimize(cross_entropy_loss)\n",
    "\n",
    "n_iters = 10000\n",
    "\n",
    "# train for n_iter iterations\n",
    "\n",
    "for _ in range(n_iters):\n",
    "    sess.run(train_step, feed_dict={x: x_train, y_label: y_train})\n",
    "\n",
    "    print('loss is : ', sess.run(cross_entropy_loss, feed_dict={x: x_train, y_label: y_train}))"
   ]
  },
  {
   "cell_type": "code",
   "execution_count": null,
   "metadata": {
    "collapsed": true
   },
   "outputs": [],
   "source": [
    "print(sess.run(W1))\n",
    "print('----------')\n",
    "print(sess.run(b1))\n",
    "print('----------')"
   ]
  },
  {
   "cell_type": "code",
   "execution_count": null,
   "metadata": {
    "collapsed": true
   },
   "outputs": [],
   "source": [
    "vectors = sess.run(W1 + b1)\n",
    "\n",
    "\n",
    "# if you work it out, you will see that it has the same effect as running the node hidden representation\n",
    "\n",
    "print(vectors)"
   ]
  },
  {
   "cell_type": "code",
   "execution_count": null,
   "metadata": {
    "collapsed": true
   },
   "outputs": [],
   "source": [
    "print(vectors[ word2int['us'] ])\n",
    "\n",
    "# say here word2int['queen'] is 2"
   ]
  },
  {
   "cell_type": "code",
   "execution_count": null,
   "metadata": {
    "collapsed": true
   },
   "outputs": [],
   "source": [
    "def euclidean_dist(vec1, vec2):\n",
    "    return np.sqrt(np.sum((vec1-vec2)**2))\n",
    "\n",
    "def find_closest(word_index, vectors):\n",
    "    min_dist = 10000 # to act like positive infinity\n",
    "    min_index = -1\n",
    "\n",
    "    query_vector = vectors[word_index]\n",
    "\n",
    "    for index, vector in enumerate(vectors):\n",
    "\n",
    "        if euclidean_dist(vector, query_vector) < min_dist and not np.array_equal(vector, query_vector):\n",
    "\n",
    "            min_dist = euclidean_dist(vector, query_vector)\n",
    "            min_index = index\n",
    "\n",
    "    return min_index"
   ]
  },
  {
   "cell_type": "code",
   "execution_count": null,
   "metadata": {
    "collapsed": true
   },
   "outputs": [],
   "source": [
    "print(int2word[find_closest(word2int['us'], vectors)])\n",
    "print(int2word[find_closest(word2int['right'], vectors)])\n",
    "print(int2word[find_closest(word2int['gregorian'], vectors)])"
   ]
  },
  {
   "cell_type": "code",
   "execution_count": null,
   "metadata": {
    "collapsed": true
   },
   "outputs": [],
   "source": [
    "from sklearn.manifold import TSNE\n",
    "\n",
    "model = TSNE(n_components=2, random_state=0)\n",
    "np.set_printoptions(suppress=True)\n",
    "vectors = model.fit_transform(vectors)"
   ]
  },
  {
   "cell_type": "code",
   "execution_count": null,
   "metadata": {
    "collapsed": true
   },
   "outputs": [],
   "source": [
    "from sklearn import preprocessing\n",
    "\n",
    "normalizer = preprocessing.Normalizer()\n",
    "vectors =  normalizer.fit_transform(vectors, 'l2')"
   ]
  },
  {
   "cell_type": "code",
   "execution_count": null,
   "metadata": {
    "collapsed": true
   },
   "outputs": [],
   "source": [
    "import matplotlib.pyplot as plt\n",
    "\n",
    "fig, ax = plt.subplots()\n",
    "\n",
    "for word in words:\n",
    "    print(word, vectors[word2int[word]][1])\n",
    "    ax.annotate(word, (vectors[word2int[word]][0],vectors[word2int[word]][1] ))\n",
    "\n",
    "plt.show()"
   ]
  },
  {
   "cell_type": "code",
   "execution_count": null,
   "metadata": {
    "collapsed": true
   },
   "outputs": [],
   "source": []
  }
 ],
 "metadata": {
  "kernelspec": {
   "display_name": "py2-venv",
   "language": "python",
   "name": "py2-venv"
  },
  "language_info": {
   "codemirror_mode": {
    "name": "ipython",
    "version": 2
   },
   "file_extension": ".py",
   "mimetype": "text/x-python",
   "name": "python",
   "nbconvert_exporter": "python",
   "pygments_lexer": "ipython2",
   "version": "2.7.13"
  }
 },
 "nbformat": 4,
 "nbformat_minor": 2
}
