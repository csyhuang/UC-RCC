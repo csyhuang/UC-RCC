{
 "cells": [
  {
   "cell_type": "markdown",
   "metadata": {},
   "source": [
    "### Evaluate CNN created by CNN_Train\n",
    "### Adapted  by Frank J. Greco for analysing Atlas transcript data"
   ]
  },
  {
   "cell_type": "code",
   "execution_count": 3,
   "metadata": {},
   "outputs": [],
   "source": [
    "#! /usr/bin/env python\n",
    "import tensorflow as tf\n",
    "import numpy as np\n",
    "import os\n",
    "import time\n",
    "import datetime\n",
    "import data_helpers\n",
    "from text_cnn import TextCNN\n",
    "from tensorflow.contrib import learn\n",
    "import csv\n",
    "\n",
    "def run(cpd,eval_train_flag=False,data_dir=''):\n",
    "    # Parameters\n",
    "    # ==================================================\n",
    "\n",
    "    # Data Parameters\n",
    "    tf.flags.DEFINE_string(\"positive_data_file\", \"./\"+data_dir+\"/test_pos.txt\", \"Data source for the positive data.\")\n",
    "    tf.flags.DEFINE_string(\"negative_data_file\", \"./\"+data_dir+\"/test_neg.txt\", \"Data source for the negative data.\")\n",
    "\n",
    "\n",
    "    # Eval Parameters\n",
    "    tf.flags.DEFINE_integer(\"batch_size\", 64, \"Batch Size (default: 64)\")\n",
    "    tf.flags.DEFINE_string(\"checkpoint_dir\", \"./\"+data_dir+\"/\"+cpd+'/checkpoints/', \"Checkpoint directory from training run\")\n",
    "    tf.flags.DEFINE_boolean(\"eval_train\", eval_train_flag, \"Evaluate on all training data\")\n",
    "\n",
    "    # Misc Parameters\n",
    "    tf.flags.DEFINE_boolean(\"allow_soft_placement\", True, \"Allow device soft device placement\")\n",
    "    tf.flags.DEFINE_boolean(\"log_device_placement\", False, \"Log placement of ops on devices\")\n",
    "\n",
    "\n",
    "    FLAGS = tf.flags.FLAGS\n",
    "    FLAGS._parse_flags()\n",
    "    print(\"\\nParameters:\")\n",
    "    for attr, value in sorted(FLAGS.__flags.items()):\n",
    "        print(\"{}={}\".format(attr.upper(), value))\n",
    "    print(\"\")\n",
    "\n",
    "    # CHANGE THIS: Load data. Load your own data here\n",
    "    if FLAGS.eval_train:\n",
    "        x_raw, y_test = data_helpers.load_data_and_labels(FLAGS.positive_data_file, FLAGS.negative_data_file)\n",
    "        y_test = np.argmax(y_test, axis=1)\n",
    "    else:\n",
    "        x_raw = [\"a masterpiece four years in the making\", \"everything is off.\"]\n",
    "        y_test = [1, 0]\n",
    "\n",
    "    # Map data into vocabulary\n",
    "    vocab_path = os.path.join(FLAGS.checkpoint_dir, \"..\", \"vocab\")\n",
    "    vocab_processor = learn.preprocessing.VocabularyProcessor.restore(vocab_path)\n",
    "    x_test = np.array(list(vocab_processor.transform(x_raw)))\n",
    "\n",
    "    print(\"\\nEvaluating...\\n\")\n",
    "\n",
    "    # Evaluation\n",
    "    # ==================================================\n",
    "    checkpoint_file = tf.train.latest_checkpoint(FLAGS.checkpoint_dir)\n",
    "    graph = tf.Graph()\n",
    "    with graph.as_default():\n",
    "        session_conf = tf.ConfigProto(\n",
    "          allow_soft_placement=FLAGS.allow_soft_placement,\n",
    "          log_device_placement=FLAGS.log_device_placement)\n",
    "        sess = tf.Session(config=session_conf)\n",
    "        with sess.as_default():\n",
    "            # Load the saved meta graph and restore variables\n",
    "            saver = tf.train.import_meta_graph(\"{}.meta\".format(checkpoint_file))\n",
    "            saver.restore(sess, checkpoint_file)\n",
    "\n",
    "            # Get the placeholders from the graph by name\n",
    "            input_x = graph.get_operation_by_name(\"input_x\").outputs[0]\n",
    "            # input_y = graph.get_operation_by_name(\"input_y\").outputs[0]\n",
    "            dropout_keep_prob = graph.get_operation_by_name(\"dropout_keep_prob\").outputs[0]\n",
    "\n",
    "            # Tensors we want to evaluate\n",
    "            predictions = graph.get_operation_by_name(\"output/predictions\").outputs[0]\n",
    "\n",
    "            # Generate batches for one epoch\n",
    "            batches = data_helpers.batch_iter(list(x_test), FLAGS.batch_size, 1, shuffle=False)\n",
    "\n",
    "            # Collect the predictions here\n",
    "            all_predictions = []\n",
    "\n",
    "            for x_test_batch in batches:\n",
    "                batch_predictions = sess.run(predictions, {input_x: x_test_batch, dropout_keep_prob: 1.0})\n",
    "                all_predictions = np.concatenate([all_predictions, batch_predictions])\n",
    "\n",
    "    # Print accuracy if y_test is defined\n",
    "    if y_test is not None:\n",
    "        correct_predictions = float(sum(all_predictions == y_test))\n",
    "        print(\"Total number of test examples: {}\".format(len(y_test)))\n",
    "        print(\"Accuracy: {:g}\".format(correct_predictions/float(len(y_test))))\n",
    "\n",
    "    # Save the evaluation to a csv\n",
    "    predictions_human_readable = np.column_stack((np.array(x_raw), all_predictions))\n",
    "    out_path = os.path.join(FLAGS.checkpoint_dir, \"..\", \"prediction.csv\")\n",
    "    print(\"Saving evaluation to {0}\".format(out_path))\n",
    "    with open(out_path, 'w') as f:\n",
    "        csv.writer(f).writerows(predictions_human_readable)"
   ]
  },
  {
   "cell_type": "code",
   "execution_count": 4,
   "metadata": {},
   "outputs": [
    {
     "name": "stdout",
     "output_type": "stream",
     "text": [
      "\u001b[34m1525265089\u001b[m\u001b[m    test_neg.txt  test_pos.txt  train_neg.txt train_pos.txt\r\n"
     ]
    }
   ],
   "source": [
    "!ls Data_TW04"
   ]
  },
  {
   "cell_type": "code",
   "execution_count": 5,
   "metadata": {},
   "outputs": [
    {
     "name": "stdout",
     "output_type": "stream",
     "text": [
      "\n",
      "Parameters:\n",
      "ALLOW_SOFT_PLACEMENT=True\n",
      "BATCH_SIZE=64\n",
      "CHECKPOINT_DIR=./Data_TW04/1525265089/checkpoints/\n",
      "EVAL_TRAIN=True\n",
      "LOG_DEVICE_PLACEMENT=False\n",
      "NEGATIVE_DATA_FILE=./Data_TW04/test_neg.txt\n",
      "POSITIVE_DATA_FILE=./Data_TW04/test_pos.txt\n",
      "\n",
      "\n",
      "Evaluating...\n",
      "\n",
      "INFO:tensorflow:Restoring parameters from /Users/fjgreco/Dev-Atlas/Dev-Atlas-Group2/Dev-Atlas-cnn/ConvolutionalNN/Data_TW04/1525265089/checkpoints/model-2\n",
      "Total number of test examples: 108\n",
      "Accuracy: 0.898148\n",
      "Saving evaluation to ./Data_TW04/1525265089/checkpoints/../prediction.csv\n"
     ]
    }
   ],
   "source": [
    "if __name__ == \"__main__\":\n",
    "\n",
    "    run('1525265089',eval_train_flag=True,data_dir='Data_TW04')"
   ]
  },
  {
   "cell_type": "code",
   "execution_count": null,
   "metadata": {},
   "outputs": [],
   "source": []
  }
 ],
 "metadata": {
  "kernelspec": {
   "display_name": "Python 2",
   "language": "python",
   "name": "python2"
  },
  "language_info": {
   "codemirror_mode": {
    "name": "ipython",
    "version": 2
   },
   "file_extension": ".py",
   "mimetype": "text/x-python",
   "name": "python",
   "nbconvert_exporter": "python",
   "pygments_lexer": "ipython2",
   "version": "2.7.14"
  }
 },
 "nbformat": 4,
 "nbformat_minor": 2
}
