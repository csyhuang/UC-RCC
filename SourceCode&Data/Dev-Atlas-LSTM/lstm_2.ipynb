{
 "cells": [
  {
   "cell_type": "code",
   "execution_count": 2,
   "metadata": {},
   "outputs": [
    {
     "name": "stdout",
     "output_type": "stream",
     "text": [
      "prediction:  0 0.494286447763\n",
      "prediction:  1 0.494344174862\n",
      "prediction:  2 0.494277685881\n"
     ]
    }
   ],
   "source": [
    "# %load ltsm_2_run.py\n",
    "#Predictive run...\n",
    "\n",
    "from __future__ import division, print_function, absolute_import\n",
    "\n",
    "from tflearn.data_utils import to_categorical, pad_sequences\n",
    "\n",
    "import ltsm_2_model\n",
    "\n",
    "#Prepare source data...\n",
    "\n",
    "testX=[[0,0,0,0,0,0,0,1,0,0,],[0,0,0,0,0,0,0,0,0,2],[2,0,0,0,0,0,0,0,0,0]]\n",
    "testY=[0,1,1]\n",
    "\n",
    "predX = testX\n",
    "predX = pad_sequences(predX, maxlen=10, value=0.)\n",
    "\n",
    "m=ltsm_2_model.TFModel()\n",
    "\n",
    "model=m.build()\n",
    "\n",
    "#Retrieve weights from training run...\n",
    "model.load(m.tfl)\n",
    "\n",
    "# Run against trained model...\n",
    "pred = model.predict(predX)\n",
    "\n",
    "for i in range(0,len(predX)):\n",
    "    print(\"prediction: \", i, pred[i][1])\n",
    "\n"
   ]
  },
  {
   "cell_type": "code",
   "execution_count": null,
   "metadata": {
    "collapsed": true
   },
   "outputs": [],
   "source": []
  },
  {
   "cell_type": "code",
   "execution_count": null,
   "metadata": {
    "collapsed": true
   },
   "outputs": [],
   "source": []
  }
 ],
 "metadata": {
  "kernelspec": {
   "display_name": "Cogntivie Live(py2-venv)",
   "language": "python",
   "name": "py2-venv"
  },
  "language_info": {
   "codemirror_mode": {
    "name": "ipython",
    "version": 2
   },
   "file_extension": ".py",
   "mimetype": "text/x-python",
   "name": "python",
   "nbconvert_exporter": "python",
   "pygments_lexer": "ipython2",
   "version": "2.7.13"
  }
 },
 "nbformat": 4,
 "nbformat_minor": 1
}
